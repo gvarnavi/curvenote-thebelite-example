{
 "cells": [
  {
   "cell_type": "markdown",
   "id": "0faac4c3-826c-4e78-b75d-e2642e7b947d",
   "metadata": {},
   "source": [
    "# Lennard Jones Surface Energy\n",
    "\n",
    "> **2024 Molecular Foundry Annual User Meeting**  \n",
    "> _Digital Science Communication: Reproducibility, Reactivity, and Web Interfaces_  \n",
    "> Georgios Varnavides | 08/12/2024"
   ]
  },
  {
   "cell_type": "code",
   "execution_count": 13,
   "id": "7be9a4ad-b5f3-4518-87e1-b1f6eae859b7",
   "metadata": {},
   "outputs": [],
   "source": [
    "import sys\n",
    "if \"pyodide\" in sys.modules:\n",
    "  import micropip\n",
    "  await micropip.install('ipywidgets')\n",
    "  await micropip.install('ipympl')\n",
    "\n",
    "%matplotlib widget\n",
    "\n",
    "import numpy as np\n",
    "import matplotlib.pyplot as plt\n",
    "from mpl_toolkits.axes_grid1.axes_divider import make_axes_locatable\n",
    "\n",
    "from IPython.display import display\n",
    "import ipywidgets\n",
    "\n",
    "dpi = 72"
   ]
  },
  {
   "cell_type": "code",
   "execution_count": 2,
   "id": "50ee6593-5b39-4bc5-9361-7bc411914a48",
   "metadata": {},
   "outputs": [
    {
     "data": {
      "text/plain": [
       "(256, 2)"
      ]
     },
     "execution_count": 2,
     "metadata": {},
     "output_type": "execute_result"
    }
   ],
   "source": [
    "xx, yy = np.meshgrid(\n",
    "    np.arange(-7.5,8.5,1.0),\n",
    "    np.arange(-7.5,8.5,1.0),\n",
    "    indexing='ij'\n",
    ")\n",
    "\n",
    "compressive_strain = 0.975\n",
    "pts_initial = compressive_strain * np.stack((xx.ravel(),yy.ravel()),-1)\n",
    "pts_initial.shape"
   ]
  },
  {
   "cell_type": "code",
   "execution_count": 3,
   "id": "fb7353d5-ca20-44e3-b65b-46c678ea1cca",
   "metadata": {},
   "outputs": [],
   "source": [
    "def distance_matrix(pts):\n",
    "    \"\"\" efficiently computes the distance matrix between a set of points \"\"\"\n",
    "    # cast as complex array\n",
    "    pts_complex = pts.view(dtype=np.complex128)\n",
    "    dists = np.abs(pts_complex.T - pts_complex)\n",
    "    return dists\n",
    "\n",
    "def lennard_jones_energies(pts):\n",
    "    \"\"\" efficiently compute array of pairwise LJ energies, summing over rows \"\"\"\n",
    "    n = pts.shape[0]\n",
    "    dists = distance_matrix(pts) + np.identity(n)\n",
    "    dists_sixth = dists**6\n",
    "    return np.sum(1/dists_sixth**2 - 2/dists_sixth,0)/2 + 0.5"
   ]
  },
  {
   "cell_type": "code",
   "execution_count": 4,
   "id": "f1f10f86-855f-4828-921d-1152f05b4aae",
   "metadata": {},
   "outputs": [],
   "source": [
    "def slice_particle_half(pts, angle_deg):\n",
    "    \"\"\"\n",
    "    Slices particle in half according to angle_deg,\n",
    "    returning the displaced positions and computed energies\n",
    "    \"\"\"\n",
    "    # slice\n",
    "    angle = np.deg2rad(angle_deg)\n",
    "    left_of_slice = (np.tan(angle % np.pi) * (pts[:,0]+1e-6)) < pts[:,1]\n",
    "    pts_left = pts[left_of_slice]\n",
    "    pts_right = pts[~left_of_slice]\n",
    "\n",
    "    # energies\n",
    "    energies_left = lennard_jones_energies(pts_left)\n",
    "    energies_right = lennard_jones_energies(pts_right)\n",
    "\n",
    "    # displace\n",
    "    pts_left[:,0] -= np.sin(angle)\n",
    "    pts_left[:,1] += np.cos(angle)\n",
    "    pts_right[:,0] += np.sin(angle)\n",
    "    pts_right[:,1] -= np.cos(angle)\n",
    "\n",
    "    # populate\n",
    "    new_pts = np.empty_like(pts)\n",
    "    new_pts[left_of_slice] = pts_left\n",
    "    new_pts[~left_of_slice] = pts_right\n",
    "\n",
    "    energies = np.empty(pts.shape[0],dtype=energies_left.dtype)\n",
    "    energies[left_of_slice] = energies_left\n",
    "    energies[~left_of_slice] = energies_right\n",
    "    \n",
    "    return new_pts, energies"
   ]
  },
  {
   "cell_type": "code",
   "execution_count": 14,
   "id": "381b6510-3f2d-45e4-a098-6704ffee0b2a",
   "metadata": {},
   "outputs": [],
   "source": [
    "angle_deg = 45\n",
    "angle = np.deg2rad(angle_deg)\n",
    "pts, energies = slice_particle_half(pts_initial,angle_deg)\n",
    "\n",
    "with plt.ioff():\n",
    "    fig, ax = plt.subplots(figsize=(6,6.5),dpi=dpi)\n",
    "\n",
    "scat = ax.scatter(\n",
    "    pts[:,0],\n",
    "    pts[:,1],\n",
    "    c=energies,\n",
    "    s=325,\n",
    "    cmap='turbo',\n",
    "    vmin=-3,\n",
    "    vmax=0,\n",
    ")\n",
    "\n",
    "line, = ax.plot(\n",
    "    [12.5*np.cos(angle),-12.5*np.cos(angle)],\n",
    "    [12.5*np.sin(angle),-12.5*np.sin(angle)],\n",
    "    linestyle='--',\n",
    "    color='k',\n",
    ") \n",
    "\n",
    "ax_divider = make_axes_locatable(ax)\n",
    "cax = ax_divider.append_axes(\"bottom\", size=\"3%\", pad=0)\n",
    "cbar = fig.colorbar(scat, cax=cax, orientation=\"horizontal\",)\n",
    "cbar.set_label(\"normalized Lennard-Jones interatomic potential energy\")\n",
    "\n",
    "ax.set_aspect(\"equal\")\n",
    "ax.axis(\"off\")\n",
    "ax.set_xlim([-10,10])\n",
    "ax.set_ylim([-10,10])\n",
    "\n",
    "fig.tight_layout()"
   ]
  },
  {
   "cell_type": "code",
   "execution_count": 15,
   "id": "999cc510-b11f-4d78-bd18-1680242426de",
   "metadata": {},
   "outputs": [],
   "source": [
    "style = {\n",
    "    'description_width': 'initial',\n",
    "}\n",
    "\n",
    "layout = ipywidgets.Layout(\n",
    "    width=f\"{4.5*dpi}px\",\n",
    ")\n",
    "\n",
    "angle_slider = ipywidgets.FloatSlider(\n",
    "    value = angle_deg, min = -89.5, max = 90, \n",
    "    step = 0.5,\n",
    "    description = r\"slice angle, $\\theta$ [°]\",\n",
    "    style = style,\n",
    "    layout = layout,\n",
    ")\n",
    "\n",
    "def update_scatter(angle_deg):\n",
    "    \"\"\" \"\"\"\n",
    "    angle = np.deg2rad(angle_deg)\n",
    "    pts, energies = slice_particle_half(pts_initial,angle_deg)\n",
    "    scat.set_offsets(pts)\n",
    "    scat.set_array(energies)\n",
    "    line.set_data(\n",
    "        [12.5*np.cos(angle),-12.5*np.cos(angle)],\n",
    "        [12.5*np.sin(angle),-12.5*np.sin(angle)],\n",
    "    )\n",
    "    fig.canvas.draw_idle()\n",
    "    return None\n",
    "\n",
    "fig.canvas.resizable = False\n",
    "fig.canvas.header_visible = False\n",
    "fig.canvas.footer_visible = False\n",
    "fig.canvas.toolbar_visible = False\n",
    "fig.canvas.layout.width = f\"{6*dpi}px\"\n",
    "fig.canvas.layout.height = f\"{6.5*dpi}px\"\n",
    "\n",
    "ipywidgets.widgets.interactive_output(\n",
    "    update_scatter, \n",
    "    {\n",
    "        'angle_deg':angle_slider,\n",
    "    },\n",
    ");"
   ]
  },
  {
   "cell_type": "code",
   "execution_count": 16,
   "id": "5cc4e5ee-fe81-4fcd-a334-83aaa8834fe2",
   "metadata": {},
   "outputs": [
    {
     "data": {
      "application/vnd.jupyter.widget-view+json": {
       "model_id": "ad6ca9e318864b469d8be829cd4bf233",
       "version_major": 2,
       "version_minor": 0
      },
      "text/plain": [
       "VBox(children=(FloatSlider(value=45.0, description='slice angle, $\\\\theta$ [°]', layout=Layout(width='324.0px'…"
      ]
     },
     "metadata": {},
     "output_type": "display_data"
    }
   ],
   "source": [
    "#| label: app:surface_energy\n",
    "\n",
    "display(\n",
    "    ipywidgets.VBox(\n",
    "        [\n",
    "            angle_slider,\n",
    "            fig.canvas,\n",
    "        ]\n",
    "    )\n",
    ")"
   ]
  },
  {
   "cell_type": "code",
   "execution_count": null,
   "id": "f1bbfcfd-1422-4c9f-a658-90e853a81de3",
   "metadata": {},
   "outputs": [],
   "source": []
  }
 ],
 "metadata": {
  "kernelspec": {
   "display_name": "Python 3 (ipykernel)",
   "language": "python",
   "name": "python3"
  },
  "language_info": {
   "codemirror_mode": {
    "name": "ipython",
    "version": 3
   },
   "file_extension": ".py",
   "mimetype": "text/x-python",
   "name": "python",
   "nbconvert_exporter": "python",
   "pygments_lexer": "ipython3",
   "version": "3.12.5"
  }
 },
 "nbformat": 4,
 "nbformat_minor": 5
}
